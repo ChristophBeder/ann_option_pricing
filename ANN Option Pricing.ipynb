{
 "cells": [
  {
   "cell_type": "code",
   "execution_count": 1,
   "id": "be920387",
   "metadata": {},
   "outputs": [],
   "source": [
    "import pandas as pd\n",
    "import numpy as np\n",
    "import yfinance as yf\n",
    "from datetime import datetime\n",
    "import matplotlib.pyplot as plt\n",
    "import tensorflow as tf\n",
    "from keras.models import Sequential\n",
    "from keras.layers import Dense, Dropout, Activation, LeakyReLU\n",
    "from keras import backend\n",
    "import scipy.stats"
   ]
  },
  {
   "cell_type": "code",
   "execution_count": 2,
   "id": "48c45e3d",
   "metadata": {},
   "outputs": [],
   "source": [
    "# Synthetic data\n",
    "import random\n",
    "\n",
    "syn_data = pd.DataFrame(columns=['Close', 'Maturity', 'Div_Yield', 'iv_current', 'RF', \"Strike\"]) \n",
    "\n",
    "syn_data.Close = [round(random.uniform(10, 500),2) for _ in range(300000)]\n",
    "syn_data.Strike = [round(random.uniform(7, 650),2) for _ in range(300000)]\n",
    "syn_data.Maturity = [round(random.uniform(1, 1.095),2) for _ in range(300000)]\n",
    "syn_data.Div_Yield = [round(random.uniform(0, 0.03),2) for _ in range(300000)]\n",
    "syn_data.RF = [round(random.uniform(0.01, 0.03),2) for _ in range(300000)]\n",
    "syn_data.iv_current = [round(random.uniform(0.05, 0.9),2) for _ in range(300000)]"
   ]
  },
  {
   "cell_type": "code",
   "execution_count": 3,
   "id": "b122843c",
   "metadata": {
    "scrolled": false
   },
   "outputs": [
    {
     "data": {
      "text/html": [
       "<div>\n",
       "<style scoped>\n",
       "    .dataframe tbody tr th:only-of-type {\n",
       "        vertical-align: middle;\n",
       "    }\n",
       "\n",
       "    .dataframe tbody tr th {\n",
       "        vertical-align: top;\n",
       "    }\n",
       "\n",
       "    .dataframe thead th {\n",
       "        text-align: right;\n",
       "    }\n",
       "</style>\n",
       "<table border=\"1\" class=\"dataframe\">\n",
       "  <thead>\n",
       "    <tr style=\"text-align: right;\">\n",
       "      <th></th>\n",
       "      <th>Close</th>\n",
       "      <th>Maturity</th>\n",
       "      <th>Div_Yield</th>\n",
       "      <th>iv_current</th>\n",
       "      <th>RF</th>\n",
       "      <th>Strike</th>\n",
       "    </tr>\n",
       "  </thead>\n",
       "  <tbody>\n",
       "    <tr>\n",
       "      <th>0</th>\n",
       "      <td>220.82</td>\n",
       "      <td>1.05</td>\n",
       "      <td>0.02</td>\n",
       "      <td>0.48</td>\n",
       "      <td>0.01</td>\n",
       "      <td>629.39</td>\n",
       "    </tr>\n",
       "    <tr>\n",
       "      <th>1</th>\n",
       "      <td>81.64</td>\n",
       "      <td>1.06</td>\n",
       "      <td>0.03</td>\n",
       "      <td>0.47</td>\n",
       "      <td>0.02</td>\n",
       "      <td>164.66</td>\n",
       "    </tr>\n",
       "    <tr>\n",
       "      <th>2</th>\n",
       "      <td>39.33</td>\n",
       "      <td>1.06</td>\n",
       "      <td>0.02</td>\n",
       "      <td>0.14</td>\n",
       "      <td>0.02</td>\n",
       "      <td>370.32</td>\n",
       "    </tr>\n",
       "    <tr>\n",
       "      <th>3</th>\n",
       "      <td>281.23</td>\n",
       "      <td>1.03</td>\n",
       "      <td>0.02</td>\n",
       "      <td>0.69</td>\n",
       "      <td>0.02</td>\n",
       "      <td>625.49</td>\n",
       "    </tr>\n",
       "    <tr>\n",
       "      <th>4</th>\n",
       "      <td>249.97</td>\n",
       "      <td>1.07</td>\n",
       "      <td>0.01</td>\n",
       "      <td>0.31</td>\n",
       "      <td>0.03</td>\n",
       "      <td>120.52</td>\n",
       "    </tr>\n",
       "    <tr>\n",
       "      <th>...</th>\n",
       "      <td>...</td>\n",
       "      <td>...</td>\n",
       "      <td>...</td>\n",
       "      <td>...</td>\n",
       "      <td>...</td>\n",
       "      <td>...</td>\n",
       "    </tr>\n",
       "    <tr>\n",
       "      <th>299995</th>\n",
       "      <td>206.66</td>\n",
       "      <td>1.03</td>\n",
       "      <td>0.02</td>\n",
       "      <td>0.72</td>\n",
       "      <td>0.02</td>\n",
       "      <td>330.97</td>\n",
       "    </tr>\n",
       "    <tr>\n",
       "      <th>299996</th>\n",
       "      <td>414.26</td>\n",
       "      <td>1.06</td>\n",
       "      <td>0.02</td>\n",
       "      <td>0.47</td>\n",
       "      <td>0.01</td>\n",
       "      <td>511.45</td>\n",
       "    </tr>\n",
       "    <tr>\n",
       "      <th>299997</th>\n",
       "      <td>97.52</td>\n",
       "      <td>1.06</td>\n",
       "      <td>0.03</td>\n",
       "      <td>0.78</td>\n",
       "      <td>0.02</td>\n",
       "      <td>255.77</td>\n",
       "    </tr>\n",
       "    <tr>\n",
       "      <th>299998</th>\n",
       "      <td>380.51</td>\n",
       "      <td>1.00</td>\n",
       "      <td>0.01</td>\n",
       "      <td>0.28</td>\n",
       "      <td>0.01</td>\n",
       "      <td>537.96</td>\n",
       "    </tr>\n",
       "    <tr>\n",
       "      <th>299999</th>\n",
       "      <td>65.91</td>\n",
       "      <td>1.02</td>\n",
       "      <td>0.01</td>\n",
       "      <td>0.55</td>\n",
       "      <td>0.02</td>\n",
       "      <td>442.54</td>\n",
       "    </tr>\n",
       "  </tbody>\n",
       "</table>\n",
       "<p>300000 rows × 6 columns</p>\n",
       "</div>"
      ],
      "text/plain": [
       "         Close  Maturity  Div_Yield  iv_current    RF  Strike\n",
       "0       220.82      1.05       0.02        0.48  0.01  629.39\n",
       "1        81.64      1.06       0.03        0.47  0.02  164.66\n",
       "2        39.33      1.06       0.02        0.14  0.02  370.32\n",
       "3       281.23      1.03       0.02        0.69  0.02  625.49\n",
       "4       249.97      1.07       0.01        0.31  0.03  120.52\n",
       "...        ...       ...        ...         ...   ...     ...\n",
       "299995  206.66      1.03       0.02        0.72  0.02  330.97\n",
       "299996  414.26      1.06       0.02        0.47  0.01  511.45\n",
       "299997   97.52      1.06       0.03        0.78  0.02  255.77\n",
       "299998  380.51      1.00       0.01        0.28  0.01  537.96\n",
       "299999   65.91      1.02       0.01        0.55  0.02  442.54\n",
       "\n",
       "[300000 rows x 6 columns]"
      ]
     },
     "execution_count": 3,
     "metadata": {},
     "output_type": "execute_result"
    }
   ],
   "source": [
    "syn_data"
   ]
  },
  {
   "cell_type": "code",
   "execution_count": 4,
   "id": "4578da79",
   "metadata": {},
   "outputs": [],
   "source": [
    "d_1 = (np.log(syn_data.Close/syn_data.Strike) + (syn_data.RF - syn_data.Div_Yield - 0.5*syn_data.iv_current)*syn_data.Maturity)/ np.sqrt(syn_data.iv_current)*np.sqrt(syn_data.Maturity)"
   ]
  },
  {
   "cell_type": "code",
   "execution_count": 5,
   "id": "c091f02a",
   "metadata": {},
   "outputs": [],
   "source": [
    "d_2 = d_1 - (np.sqrt(syn_data.iv_current)*np.sqrt(syn_data.Maturity))"
   ]
  },
  {
   "cell_type": "code",
   "execution_count": 6,
   "id": "de1074a1",
   "metadata": {},
   "outputs": [],
   "source": [
    "syn_data[\"Call Price\"] = syn_data.Close * np.exp(-syn_data.Div_Yield*syn_data.Maturity) * scipy.stats.norm.pdf(d_1) - syn_data.Strike * np.exp(-syn_data.RF*syn_data.Maturity) * scipy.stats.norm.pdf(d_2)"
   ]
  },
  {
   "cell_type": "code",
   "execution_count": 7,
   "id": "2703af19",
   "metadata": {},
   "outputs": [
    {
     "data": {
      "text/html": [
       "<div>\n",
       "<style scoped>\n",
       "    .dataframe tbody tr th:only-of-type {\n",
       "        vertical-align: middle;\n",
       "    }\n",
       "\n",
       "    .dataframe tbody tr th {\n",
       "        vertical-align: top;\n",
       "    }\n",
       "\n",
       "    .dataframe thead th {\n",
       "        text-align: right;\n",
       "    }\n",
       "</style>\n",
       "<table border=\"1\" class=\"dataframe\">\n",
       "  <thead>\n",
       "    <tr style=\"text-align: right;\">\n",
       "      <th></th>\n",
       "      <th>Close</th>\n",
       "      <th>Maturity</th>\n",
       "      <th>Div_Yield</th>\n",
       "      <th>iv_current</th>\n",
       "      <th>RF</th>\n",
       "      <th>Strike</th>\n",
       "      <th>Call Price</th>\n",
       "    </tr>\n",
       "  </thead>\n",
       "  <tbody>\n",
       "    <tr>\n",
       "      <th>count</th>\n",
       "      <td>300000.000000</td>\n",
       "      <td>300000.000000</td>\n",
       "      <td>300000.000000</td>\n",
       "      <td>300000.000000</td>\n",
       "      <td>300000.000000</td>\n",
       "      <td>300000.000000</td>\n",
       "      <td>300000.000000</td>\n",
       "    </tr>\n",
       "    <tr>\n",
       "      <th>mean</th>\n",
       "      <td>254.847191</td>\n",
       "      <td>1.047327</td>\n",
       "      <td>0.015024</td>\n",
       "      <td>0.474744</td>\n",
       "      <td>0.020001</td>\n",
       "      <td>328.556881</td>\n",
       "      <td>22.686298</td>\n",
       "    </tr>\n",
       "    <tr>\n",
       "      <th>std</th>\n",
       "      <td>141.508517</td>\n",
       "      <td>0.027440</td>\n",
       "      <td>0.009581</td>\n",
       "      <td>0.245355</td>\n",
       "      <td>0.007061</td>\n",
       "      <td>185.553640</td>\n",
       "      <td>25.700001</td>\n",
       "    </tr>\n",
       "    <tr>\n",
       "      <th>min</th>\n",
       "      <td>10.000000</td>\n",
       "      <td>1.000000</td>\n",
       "      <td>0.000000</td>\n",
       "      <td>0.050000</td>\n",
       "      <td>0.010000</td>\n",
       "      <td>7.000000</td>\n",
       "      <td>-0.006853</td>\n",
       "    </tr>\n",
       "    <tr>\n",
       "      <th>25%</th>\n",
       "      <td>132.130000</td>\n",
       "      <td>1.020000</td>\n",
       "      <td>0.010000</td>\n",
       "      <td>0.260000</td>\n",
       "      <td>0.020000</td>\n",
       "      <td>168.070000</td>\n",
       "      <td>1.122363</td>\n",
       "    </tr>\n",
       "    <tr>\n",
       "      <th>50%</th>\n",
       "      <td>254.700000</td>\n",
       "      <td>1.050000</td>\n",
       "      <td>0.020000</td>\n",
       "      <td>0.470000</td>\n",
       "      <td>0.020000</td>\n",
       "      <td>328.630000</td>\n",
       "      <td>12.583795</td>\n",
       "    </tr>\n",
       "    <tr>\n",
       "      <th>75%</th>\n",
       "      <td>377.680000</td>\n",
       "      <td>1.070000</td>\n",
       "      <td>0.020000</td>\n",
       "      <td>0.690000</td>\n",
       "      <td>0.020000</td>\n",
       "      <td>489.410000</td>\n",
       "      <td>37.248138</td>\n",
       "    </tr>\n",
       "    <tr>\n",
       "      <th>max</th>\n",
       "      <td>500.000000</td>\n",
       "      <td>1.090000</td>\n",
       "      <td>0.030000</td>\n",
       "      <td>0.900000</td>\n",
       "      <td>0.030000</td>\n",
       "      <td>650.000000</td>\n",
       "      <td>122.541694</td>\n",
       "    </tr>\n",
       "  </tbody>\n",
       "</table>\n",
       "</div>"
      ],
      "text/plain": [
       "               Close       Maturity      Div_Yield     iv_current  \\\n",
       "count  300000.000000  300000.000000  300000.000000  300000.000000   \n",
       "mean      254.847191       1.047327       0.015024       0.474744   \n",
       "std       141.508517       0.027440       0.009581       0.245355   \n",
       "min        10.000000       1.000000       0.000000       0.050000   \n",
       "25%       132.130000       1.020000       0.010000       0.260000   \n",
       "50%       254.700000       1.050000       0.020000       0.470000   \n",
       "75%       377.680000       1.070000       0.020000       0.690000   \n",
       "max       500.000000       1.090000       0.030000       0.900000   \n",
       "\n",
       "                  RF         Strike     Call Price  \n",
       "count  300000.000000  300000.000000  300000.000000  \n",
       "mean        0.020001     328.556881      22.686298  \n",
       "std         0.007061     185.553640      25.700001  \n",
       "min         0.010000       7.000000      -0.006853  \n",
       "25%         0.020000     168.070000       1.122363  \n",
       "50%         0.020000     328.630000      12.583795  \n",
       "75%         0.020000     489.410000      37.248138  \n",
       "max         0.030000     650.000000     122.541694  "
      ]
     },
     "execution_count": 7,
     "metadata": {},
     "output_type": "execute_result"
    }
   ],
   "source": [
    "syn_data.describe()"
   ]
  },
  {
   "cell_type": "code",
   "execution_count": 8,
   "id": "d188216d",
   "metadata": {},
   "outputs": [],
   "source": [
    "syn_data[\"Close\"] = syn_data[\"Close\"]/syn_data[\"Strike\"]\n",
    "syn_data[\"Call Price\"] = syn_data[\"Call Price\"]/syn_data[\"Strike\"]"
   ]
  },
  {
   "cell_type": "code",
   "execution_count": 9,
   "id": "d2534911",
   "metadata": {},
   "outputs": [],
   "source": [
    "#n = 300000\n",
    "#n_train =  (int)(0.8 * n)\n",
    "#train = appl_options[0:n_train]\n",
    "#X_train = train[['Close', 'Maturity', 'Div_Yield', 'iv_current', 'RF']].values\n",
    "#y_train = train['bid'].values\n",
    "#test = appl_options[n_train+1:n]\n",
    "#X_test = test[['Close', 'Maturity', 'Div_Yield', 'iv_current', 'RF']].values\n",
    "#y_test = test['bid'].values"
   ]
  },
  {
   "cell_type": "code",
   "execution_count": 10,
   "id": "d143f4d7",
   "metadata": {},
   "outputs": [],
   "source": [
    "n = 300000\n",
    "n_train =  (int)(0.8 * n)\n",
    "train = syn_data[0:n_train]\n",
    "X_train = train[['Close', 'Maturity', 'Div_Yield', 'iv_current', 'RF']].values\n",
    "y_train = train['Call Price'].values\n",
    "test = syn_data[n_train+1:n]\n",
    "X_test = test[['Close', 'Maturity', 'Div_Yield', 'iv_current', 'RF']].values\n",
    "y_test = test['Call Price'].values"
   ]
  },
  {
   "cell_type": "code",
   "execution_count": 11,
   "id": "911704b7",
   "metadata": {},
   "outputs": [],
   "source": [
    "def custom_activation(x):\n",
    "    return backend.exp(x)"
   ]
  },
  {
   "cell_type": "code",
   "execution_count": 12,
   "id": "ae6c146d",
   "metadata": {},
   "outputs": [],
   "source": [
    "nodes = 120\n",
    "model = Sequential()\n",
    "\n",
    "model.add(Dense(nodes, input_dim=X_train.shape[1]))\n",
    "model.add(LeakyReLU())\n",
    "model.add(Dropout(0.25))\n",
    "\n",
    "model.add(Dense(nodes, activation='elu'))\n",
    "model.add(Dropout(0.25))\n",
    "\n",
    "model.add(Dense(nodes, activation='relu'))\n",
    "model.add(Dropout(0.25))\n",
    "\n",
    "model.add(Dense(nodes, activation='elu'))\n",
    "model.add(Dropout(0.25))\n",
    "\n",
    "model.add(Dense(1))\n",
    "model.add(Activation(custom_activation))\n",
    "          \n",
    "model.compile(loss='mse',optimizer='rmsprop')"
   ]
  },
  {
   "cell_type": "code",
   "execution_count": 13,
   "id": "7add5bba",
   "metadata": {
    "scrolled": true
   },
   "outputs": [
    {
     "name": "stdout",
     "output_type": "stream",
     "text": [
      "Epoch 1/10\n",
      "3375/3375 - 5s - loss: 0.0016 - val_loss: 1.9331e-04\n",
      "Epoch 2/10\n",
      "3375/3375 - 5s - loss: 4.4033e-04 - val_loss: 5.8044e-05\n",
      "Epoch 3/10\n",
      "3375/3375 - 4s - loss: 3.5199e-04 - val_loss: 2.8395e-04\n",
      "Epoch 4/10\n",
      "3375/3375 - 5s - loss: 3.0387e-04 - val_loss: 8.8879e-05\n",
      "Epoch 5/10\n",
      "3375/3375 - 5s - loss: 2.6952e-04 - val_loss: 1.1171e-04\n",
      "Epoch 6/10\n",
      "3375/3375 - 5s - loss: 2.3987e-04 - val_loss: 1.1096e-04\n",
      "Epoch 7/10\n",
      "3375/3375 - 5s - loss: 2.2245e-04 - val_loss: 8.2136e-05\n",
      "Epoch 8/10\n",
      "3375/3375 - 5s - loss: 2.0814e-04 - val_loss: 4.6525e-05\n",
      "Epoch 9/10\n",
      "3375/3375 - 5s - loss: 2.0092e-04 - val_loss: 1.2272e-04\n",
      "Epoch 10/10\n",
      "3375/3375 - 4s - loss: 1.9497e-04 - val_loss: 5.9127e-05\n"
     ]
    },
    {
     "data": {
      "text/plain": [
       "<tensorflow.python.keras.callbacks.History at 0x244160d5070>"
      ]
     },
     "execution_count": 13,
     "metadata": {},
     "output_type": "execute_result"
    }
   ],
   "source": [
    "model.fit(X_train, y_train, batch_size=64, epochs=10, validation_split=0.1, verbose=2)"
   ]
  },
  {
   "cell_type": "code",
   "execution_count": 14,
   "id": "4dce402c",
   "metadata": {},
   "outputs": [],
   "source": [
    "def CheckAccuracy(y,y_hat):\n",
    "    stats = dict()\n",
    "    \n",
    "    stats['diff'] = y - y_hat\n",
    "    \n",
    "    stats['mse'] = np.mean(stats['diff']**2)\n",
    "    print(\"Mean Squared Error:      \", stats['mse'])\n",
    "    \n",
    "    stats['rmse'] = np.sqrt(stats['mse'])\n",
    "    print(\"Root Mean Squared Error: \", stats['rmse'])\n",
    "    \n",
    "    stats['mae'] = np.mean(abs(stats['diff']))\n",
    "    print(\"Mean Absolute Error:     \", stats['mae'])\n",
    "    \n",
    "    stats['mpe'] = np.sqrt(stats['mse'])/np.mean(y)\n",
    "    print(\"Mean Percent Error:      \", stats['mpe'])\n",
    "    \n",
    "    #plots\n",
    "    plt.rcParams['agg.path.chunksize'] = 100000\n",
    "    #figure(figsize=(14,10))\n",
    "    plt.scatter(y, y_hat,color='black',linewidth=0.3,alpha=0.4, s=0.5)\n",
    "    plt.xlabel('Actual Price',fontsize=20,fontname='Times New Roman')\n",
    "    plt.ylabel('Predicted Price',fontsize=20,fontname='Times New Roman') \n",
    "    plt.show()\n",
    "    \n",
    "    #figure(figsize=(14,10))\n",
    "    plt.hist(stats['diff'], bins=50,edgecolor='black',color='white')\n",
    "    plt.xlabel('Diff')\n",
    "    plt.ylabel('Density')\n",
    "    plt.show()\n",
    "    \n",
    "    return stats"
   ]
  },
  {
   "cell_type": "code",
   "execution_count": 15,
   "id": "d5d40cd7",
   "metadata": {},
   "outputs": [
    {
     "name": "stdout",
     "output_type": "stream",
     "text": [
      "Mean Squared Error:       5.7919280151793046e-05\n",
      "Root Mean Squared Error:  0.007610471743052007\n",
      "Mean Absolute Error:      0.0038408813348407753\n",
      "Mean Percent Error:       0.08165591519308715\n"
     ]
    },
    {
     "data": {
      "image/png": "[encoded data removed]",
      "text/plain": [
       "<Figure size 432x288 with 1 Axes>"
      ]
     },
     "metadata": {
      "needs_background": "light"
     },
     "output_type": "display_data"
    },
    {
     "data": {
      "image/png": "[encoded data removed]",
      "text/plain": [
       "<Figure size 432x288 with 1 Axes>"
      ]
     },
     "metadata": {
      "needs_background": "light"
     },
     "output_type": "display_data"
    },
    {
     "data": {
      "text/plain": [
       "{'diff': array([ 2.31243312e-03,  1.37824317e-03, -7.86960944e-05, ...,\n",
       "         1.73081946e-03, -3.52962108e-04,  1.68232066e-04]),\n",
       " 'mse': 5.7919280151793046e-05,\n",
       " 'rmse': 0.007610471743052007,\n",
       " 'mae': 0.0038408813348407753,\n",
       " 'mpe': 0.08165591519308715}"
      ]
     },
     "execution_count": 15,
     "metadata": {},
     "output_type": "execute_result"
    }
   ],
   "source": [
    "y_train_hat = model.predict(X_train)\n",
    "#reduce dim (240000,1) -> (240000,) to match y_train's dim\n",
    "y_train_hat = np.squeeze(y_train_hat)\n",
    "CheckAccuracy(y_train, y_train_hat)"
   ]
  },
  {
   "cell_type": "code",
   "execution_count": 16,
   "id": "ef2f715e",
   "metadata": {
    "scrolled": true
   },
   "outputs": [
    {
     "data": {
      "text/plain": [
       "0.09208633"
      ]
     },
     "execution_count": 16,
     "metadata": {},
     "output_type": "execute_result"
    }
   ],
   "source": [
    "np.mean(y_train_hat)"
   ]
  },
  {
   "cell_type": "code",
   "execution_count": 17,
   "id": "28c27ca4",
   "metadata": {},
   "outputs": [
    {
     "data": {
      "image/png": "[encoded data removed]",
      "text/plain": [
       "<Figure size 432x288 with 1 Axes>"
      ]
     },
     "metadata": {
      "needs_background": "light"
     },
     "output_type": "display_data"
    }
   ],
   "source": [
    "plt.hist(y_train_hat, bins=10)\n",
    "plt.show()"
   ]
  }
 ],
 "metadata": {
  "kernelspec": {
   "display_name": "Python 3",
   "language": "python",
   "name": "python3"
  },
  "language_info": {
   "codemirror_mode": {
    "name": "ipython",
    "version": 3
   },
   "file_extension": ".py",
   "mimetype": "text/x-python",
   "name": "python",
   "nbconvert_exporter": "python",
   "pygments_lexer": "ipython3",
   "version": "3.8.8"
  }
 },
 "nbformat": 4,
 "nbformat_minor": 5
}
